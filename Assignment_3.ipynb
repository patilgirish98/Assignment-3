{
  "nbformat": 4,
  "nbformat_minor": 0,
  "metadata": {
    "colab": {
      "provenance": []
    },
    "kernelspec": {
      "name": "python3",
      "display_name": "Python 3"
    },
    "language_info": {
      "name": "python"
    }
  },
  "cells": [
    {
      "cell_type": "markdown",
      "source": [
        "# Assignment :- 3 (Functions)"
      ],
      "metadata": {
        "id": "VISXA7Flp7oh"
      }
    },
    {
      "cell_type": "markdown",
      "source": [
        "1. What is the difference between a function and a method in Python\n",
        "   - Function:-\n",
        "       - A function is a block of code that is defined independently and is not tied to any object.\n",
        "       - It is invoked directly using its name.\n",
        "       - Functions are defined using the def keyword\n",
        "\n",
        "   - Method:-\n",
        "      - A method is a function that is associated with an object and typically acts upon that object.\n",
        "\n",
        "      - It is invoked on the object using dot notation (object.method()).\n",
        "      - Methods are defined inside a class and often take self as their first parameter to refer to the instance of the class.\n",
        "\n",
        "  - Example :-\n",
        "  \n",
        "           def greet(name):\n",
        "               return f\"Hello, {name}!\"\n",
        "\n",
        "           class Greeter:\n",
        "               def greet(self, name):\n",
        "                   return f\"Hello, {name}!\"\n",
        "\n",
        "           print(greet(\"Alice\"))  # Output: Hello, Alice!\n",
        "\n",
        "           greeter = Greeter()\n",
        "           print(greeter.greet(\"Bob\"))  # Output: Hello, Bob!\n",
        "\n",
        "\n",
        "2. Explain the concept of function arguments and parameters in Python\n",
        "   - n Python, function arguments and parameters are essential concepts related to how data is passed to and from functions\n",
        "    1. Parameters :-\n",
        "    - Definition: Parameters are placeholders specified in the function definition. They define what arguments the function expects when it is called.\n",
        "    - Purpose: They allow a function to receive input values and operate on them\n",
        "    - Example :-\n",
        "\n",
        "            def greet(name):\n",
        "\n",
        "            return f\"Hello,{name}!\"\n",
        "\n",
        "    2. Arguments :-\n",
        "    - Definition: Arguments are the actual values or data you pass to a function when calling it. They fill in the parameters.\n",
        "    - Purpose: They provide the function with the actual data to work with.\n",
        "    - Example :-\n",
        "       \n",
        "           print(greet(\"Alice\"))  # \"Alice\" is an argument\n",
        "\n",
        "   - Python supports different ways of passing arguments:\n",
        "\n",
        "       A. Positional Arguments\n",
        "\n",
        "       B. Keyword Arguments\n",
        "\n",
        "       C. Default Arguments\n",
        "\n",
        "       D. Variable-Length Arguments\n",
        "\n",
        "\n",
        "3.  What are the different ways to define and call a function in Python ?\n",
        "    1. Standard Function Definition and Call\n",
        "       - Definition: Use the def keyword followed by the function name, parameters, and body.\n",
        "       - Call: Use the function name followed by parentheses, optionally passing arguments\n",
        "       - Example :-\n",
        "\n",
        "              def greet(name):\n",
        "\n",
        "                  return f\"Hello, {name}!\n",
        "\n",
        "              print(greet(\"Alice\"))  \n",
        "\n",
        "    2. Default Parameter Values\n",
        "        - Functions can have default values for parameters, making arguments optional.\n",
        "        - Example :-\n",
        "\n",
        "              def greet(name=\"girish\"):\n",
        "                  return f\"Hello, {name}!\"\n",
        "\n",
        "              print(greet())           # Output: Hello, girish!\n",
        "              print(greet(\"Alice\"))    # Output: Hello, Alice!\n",
        "\n",
        "    3. Variable-Length Arguments\n",
        "       - Arbitrary Positional Arguments (*args): Allows passing a variable number of positional arguments.\n",
        "       - Arbitrary Keyword Arguments (**kwargs): Allows passing a variable number of keyword arguments.\n",
        "       - Example :-\n",
        "\n",
        "             def add_all(*args):\n",
        "                 return sum(args)\n",
        "\n",
        "             def print_info(**kwargs):\n",
        "                 for key, value in kwargs.items():\n",
        "                     print(f\"{key}: {value}\")\n",
        "\n",
        "             print(add_all(1, 2, 3, 4))  # Output: 10\n",
        "             print_info(name=\"Alice\", age=25)  # Output: name: Alice, age: 25\n",
        "\n",
        "    4. Anonymous Functions (Lambda Functions)\n",
        "        - Definition: Use the lambda keyword for short, inline functions.\n",
        "        - Call: Use the lambda expression directly or assign it to a variable.\n",
        "        - Example :-\n",
        "\n",
        "               add = lambda x, y: x + y\n",
        "               print(add(2, 3))  # Output: 5\n",
        "\n",
        "               print((lambda x, y: x * y)(3, 4))  # Output: 12\n",
        "\n",
        "\n",
        "4. What is the purpose of the `return` statement in a Python function?\n",
        "    - The return statement in a Python function is used to send a value or a result back to the caller of the function. It terminates the function's execution and specifies what the function should output or \"return\" to the code that called it.\n",
        "    - Purposes of return :-\n",
        "       1. Provide Output:\n",
        "          - It allows the function to produce a result that can be stored, used, or further processed by the calling code.\n",
        "          - Example :-\n",
        "                def add(a, b):\n",
        "                   return a + b\n",
        "\n",
        "                result = add(3, 4)  \n",
        "                print(result)       # Output: 7\n",
        "\n",
        "       2. Terminate Function Execution:\n",
        "          - Once a return statement is executed, the function stops further execution and exits.\n",
        "          - Example :-\n",
        "                def check_even_or_odd(number):\n",
        "                   if number % 2 == 0:\n",
        "                      return \"Even\"\n",
        "                   return \"Odd\"\n",
        "\n",
        "                print(check_even_or_odd(5))  # Output: Odd\n",
        "\n",
        "       3. Return Multiple Values:\n",
        "          - A function can return multiple values as a tuple.\n",
        "          - Example :-\n",
        "\n",
        "                 def calculate(a, b):\n",
        "                     return a + b, a - b, a * b\n",
        "\n",
        "                 sum_, diff, prod = calculate(5, 3)\n",
        "                 print(sum_, diff, prod)  # Output: 8 2 15\n",
        "\n",
        "\n",
        "5. What are iterators in Python and how do they differ from iterables\n",
        "    1. What is an Iterable?\n",
        "        - Definition: An iterable is any object that can be iterated over (i.e., you can loop through its elements one by one).\n",
        "        - How it Works: An iterable object must implement the __iter__() method, which returns an iterator for the object.\n",
        "        - Examples: Lists, tuples, dictionaries, sets, strings, and custom objects implementing __iter__\n",
        "\n",
        "              my_list = [1, 2, 3]\n",
        "              for item in my_list:\n",
        "              print(item)  # my_list is an iterable\n",
        "\n",
        "    2. What is an Iterator?\n",
        "       - Definition: An iterator is an object that represents a stream of data. It produces one element at a time using the __next__() method.\n",
        "       - How it Works: An iterator must implement two methods\n",
        "          - __iter__() → Returns the iterator object itself.\n",
        "          - __next__() → Returns the next element in the sequence or raises StopIteration when there are no more elements.\n",
        "\n",
        "                my_list = [1, 2, 3]\n",
        "                iterator = iter(my_list)\n",
        "                print(next(iterator))  # Output: 1\n",
        "                print(next(iterator))  # Output: 2\n",
        "                print(next(iterator))  # Output: 3\n",
        "\n",
        "6. Explain the concept of generators in Python and how they are defined\n",
        "    - Generators in Python are a special type of iterable that allow you to yield values one at a time, as opposed to computing and storing them all at once in memory. They are particularly useful for working with large datasets or creating infinite sequences.\n",
        "\n",
        "        1. Defining Generators\n",
        "\n",
        "             - Generators are defined like regular functions but use the yield keyword instead of return. When a generator function is called, it does not execute the function body immediately. Instead, it returns a generator object.\n",
        "\n",
        "        2.  How Generators Work\n",
        "\n",
        "             - When next() is called on a generator, it runs the function until it hits a yield statement, producing the next value\n",
        "\n",
        "             - The generator's state (including local variables) is saved, and execution pauses.\n",
        "\n",
        "             - On the next next() call, execution resumes from where it was pause\n",
        "\n",
        "        - Example with next():\n",
        "           \n",
        "                 gen = count_up_to(3)\n",
        "                 print(next(gen))  # Output: 1\n",
        "                 print(next(gen))  # Output: 2\n",
        "                 print(next(gen))  # Output: 3\n",
        "\n",
        "\n",
        "\n",
        "7. What are the advantages of using generators over regular functions\n",
        "\n",
        "     - Avoids storing all values in memory, reducing memory usage.\n",
        "     - Computes values only when needed, saving computation time.\n",
        "     - Suitable for generating unbounded or infinite sequences.\n",
        "     - Reduces the complexity of managing intermediate state\n",
        "     - Handles large data streams efficiently, processing one item at a time.\n",
        "     - Avoids memory allocation overhead for large data structures.\n",
        "     - Works seamlessly with Python's itertools for advanced operations.\n",
        "\n",
        "\n",
        "8.  What is a lambda function in Python and when is it typically used?\n",
        "\n",
        "   - Lambda Function in Python:-\n",
        "      - A lambda function in Python is a small, anonymous function defined using the lambda keyword. Unlike regular functions created with def, a lambda function is limited to a single expression and does not have a name.\n",
        "\n",
        "   - lambda: The keyword that starts the lambda function.\n",
        "   - arguments: The input parameters, similar to the parameters in a regular function\n",
        "   - expression: A single expression that is evaluated and returned.\n",
        "\n",
        "   - Examples of Lambda Functions :-\n",
        "\n",
        "        \n",
        "            add = lambda x, y: x + y\n",
        "\n",
        "            print(add(3, 5))  # Output: 8\n",
        "\n",
        "  - When to Use Lambda Functions\n",
        "      1.  As Short Anonymous Functions\n",
        "      2.  In Functional Programming\n",
        "      3. In GUI or Event Handling\n",
        "\n",
        "9. Explain the purpose and usage of the `map()` function in Python.\n",
        "\n",
        "    - The map() function in Python is used to apply a function to each item of an iterable (e.g., a list, tuple, or string) and returns an iterator that produces the results. It's a built-in function that supports functional programming.\n",
        "\n",
        "    - Purpose: Apply a function to each element of an iterable (like a list or tuple) and return an iterator with the results.\n",
        "    - Syntax\n",
        "       - map(function, iterable, *iterables)\n",
        "    - Example :-\n",
        "            numbers = [1, 2, 3]\n",
        "            squared = map(lambda x: x ** 2, numbers)\n",
        "            print(list(squared))  # Output: [1, 4, 9]\n",
        "\n",
        "\n",
        "10.  What is the difference between `map()`, `reduce()`, and `filter()` functions in Python?\n",
        "     - The functions map(), reduce(), and filter() in Python are all used for processing iterables in a functional programming style. While they have some similarities, each serves a different purpose and operates in a unique way.\n",
        "\n",
        "     1. map() :-\n",
        "        - Purpose: Applies a given function to each item of an iterable and returns an iterator with the results.\n",
        "        - Usage: Ideal for transforming data by applying a function to every element in an iterable.\n",
        "        - Syntax: map(function, iterable, *iterables)\n",
        "        - Return Type: Iterator (requires conversion to a list, tuple, etc., to view the results)\n",
        "        - Example :-\n",
        "\n",
        "                numbers = [1, 2, 3]\n",
        "                result = map(lambda x: x ** 2, numbers)\n",
        "                print(list(result))  # Output: [1, 4, 9]\n",
        "\n",
        "     2. reduce() :-\n",
        "         - Purpose: Applies a given function cumulatively to the items of an iterable, reducing it to a single value\n",
        "         - Usage: Used to combine items in an iterable into a single value (e.g., sum, product).\n",
        "         - Syntax: reduce(function, iterable)\n",
        "         - Example :-\n",
        "\n",
        "                      numbers = [1, 2, 3, 4]\n",
        "                      result = reduce(lambda x, y: x * y, numbers)\n",
        "                      print(result)  # Output: 24 (1 * 2 * 3 * 4)\n",
        "\n",
        "      3. filter() :-\n",
        "          - Purpose: Filters the elements of an iterable by applying a function that returns a boolean (True or False). Only the elements that return True are included in the result.\n",
        "          - Usage: Used to filter out unwanted elements based on a condition.\n",
        "          - Syntax: filter(function, iterable)\n",
        "          - Example :-\n",
        "             \n",
        "                   numbers = [1, 2, 3, 4, 5]\n",
        "                   result = filter(lambda x: x % 2 == 0, numbers)\n",
        "                   print(list(result))  # Output: [2, 4]\n",
        "\n",
        "\n",
        "\n",
        "\n",
        "\n",
        "\n",
        "\n",
        "\n",
        "\n",
        "\n",
        "\n",
        "\n",
        "\n",
        "\n",
        "\n",
        "\n",
        "\n",
        "\n",
        "\n",
        "\n",
        "\n",
        "  \n",
        "     "
      ],
      "metadata": {
        "id": "75QQSJx4qHhn"
      }
    },
    {
      "cell_type": "markdown",
      "source": [
        "# PRACTICAL QUESTIONS :-\n"
      ],
      "metadata": {
        "id": "FP5Jrr7gmmRY"
      }
    },
    {
      "cell_type": "code",
      "source": [
        "# Write a Python function that takes a list of numbers as input and returns the sum of all even numbers in the list.\n",
        "\n",
        "def sum_of_even_numbers(numbers):\n",
        "\n",
        "    return sum(num for num in numbers if num % 2 == 0)\n",
        "\n",
        "example_list = [1, 2, 3, 4, 5, 6]\n",
        "result = sum_of_even_numbers(example_list)\n",
        "print(f\"The sum of even numbers in the list is: {result}\")\n"
      ],
      "metadata": {
        "colab": {
          "base_uri": "https://localhost:8080/"
        },
        "id": "CXbVwriEmw-B",
        "outputId": "f3ae92f6-3c87-48d2-b383-0a0adb625b75"
      },
      "execution_count": null,
      "outputs": [
        {
          "output_type": "stream",
          "name": "stdout",
          "text": [
            "The sum of even numbers in the list is: 12\n"
          ]
        }
      ]
    },
    {
      "cell_type": "code",
      "source": [
        "# Create a Python function that accepts a string and returns the reverse of that string\n",
        "\n",
        "def reverse_string(s):\n",
        "\n",
        "    return s[::-1]\n",
        "\n",
        "example_string = \"Hello, World!\"\n",
        "reversed_string = reverse_string(example_string)\n",
        "print(f\"The reversed string is: {reversed_string}\")\n"
      ],
      "metadata": {
        "colab": {
          "base_uri": "https://localhost:8080/"
        },
        "id": "gj8fPglPnfuP",
        "outputId": "3a12aa07-3069-47f6-c01e-3e1ea714c9f7"
      },
      "execution_count": null,
      "outputs": [
        {
          "output_type": "stream",
          "name": "stdout",
          "text": [
            "The reversed string is: !dlroW ,olleH\n"
          ]
        }
      ]
    },
    {
      "cell_type": "code",
      "source": [
        "#  Implement a Python function that takes a list of integers and returns a new list containing the squares of each number\n",
        "\n",
        "def square_numbers(numbers):\n",
        "\n",
        "    return [num ** 2 for num in numbers]\n",
        "\n",
        "example_list = [1, 2, 3, 4, 5]\n",
        "squared_list = square_numbers(example_list)\n",
        "print(f\"The list of squared numbers is: {squared_list}\")\n",
        "\n"
      ],
      "metadata": {
        "colab": {
          "base_uri": "https://localhost:8080/"
        },
        "id": "Dc-DXDGfoGQm",
        "outputId": "84361a93-a796-495e-8180-3ea2e7a578ff"
      },
      "execution_count": null,
      "outputs": [
        {
          "output_type": "stream",
          "name": "stdout",
          "text": [
            "The list of squared numbers is: [1, 4, 9, 16, 25]\n"
          ]
        }
      ]
    },
    {
      "cell_type": "code",
      "source": [
        "# Write a Python function that checks if a given number is prime or not from 1 to 200\n",
        "\n",
        "def is_prime(number):\n",
        "\n",
        "    if number < 2:\n",
        "        return False\n",
        "    for i in range(2, int(number ** 0.5) + 1):\n",
        "        if number % i == 0:\n",
        "            return False\n",
        "    return True\n",
        "\n",
        "for num in range(1, 201):\n",
        "    if is_prime(num):\n",
        "        print(f\"{num} is a prime number.\")\n"
      ],
      "metadata": {
        "colab": {
          "base_uri": "https://localhost:8080/"
        },
        "id": "5-TlLju4orzc",
        "outputId": "061a8429-a142-49e6-9dab-85cb6427e877"
      },
      "execution_count": null,
      "outputs": [
        {
          "output_type": "stream",
          "name": "stdout",
          "text": [
            "2 is a prime number.\n",
            "3 is a prime number.\n",
            "5 is a prime number.\n",
            "7 is a prime number.\n",
            "11 is a prime number.\n",
            "13 is a prime number.\n",
            "17 is a prime number.\n",
            "19 is a prime number.\n",
            "23 is a prime number.\n",
            "29 is a prime number.\n",
            "31 is a prime number.\n",
            "37 is a prime number.\n",
            "41 is a prime number.\n",
            "43 is a prime number.\n",
            "47 is a prime number.\n",
            "53 is a prime number.\n",
            "59 is a prime number.\n",
            "61 is a prime number.\n",
            "67 is a prime number.\n",
            "71 is a prime number.\n",
            "73 is a prime number.\n",
            "79 is a prime number.\n",
            "83 is a prime number.\n",
            "89 is a prime number.\n",
            "97 is a prime number.\n",
            "101 is a prime number.\n",
            "103 is a prime number.\n",
            "107 is a prime number.\n",
            "109 is a prime number.\n",
            "113 is a prime number.\n",
            "127 is a prime number.\n",
            "131 is a prime number.\n",
            "137 is a prime number.\n",
            "139 is a prime number.\n",
            "149 is a prime number.\n",
            "151 is a prime number.\n",
            "157 is a prime number.\n",
            "163 is a prime number.\n",
            "167 is a prime number.\n",
            "173 is a prime number.\n",
            "179 is a prime number.\n",
            "181 is a prime number.\n",
            "191 is a prime number.\n",
            "193 is a prime number.\n",
            "197 is a prime number.\n",
            "199 is a prime number.\n"
          ]
        }
      ]
    },
    {
      "cell_type": "code",
      "source": [
        "# Create an iterator class in Python that generates the Fibonacci sequence up to a specified number of terms.\n",
        "\n",
        "class FibonacciIterator:\n",
        "\n",
        "    def __init__(self, n_terms):\n",
        "\n",
        "        self.n_terms = n_terms\n",
        "        self.current = 0\n",
        "        self.next = 1\n",
        "        self.index = 0\n",
        "\n",
        "    def __iter__(self):\n",
        "        return self\n",
        "\n",
        "    def __next__(self):\n",
        "        if self.index >= self.n_terms:\n",
        "            raise StopIteration\n",
        "\n",
        "        result = self.current\n",
        "        self.current, self.next = self.next, self.current + self.next\n",
        "        self.index += 1\n",
        "        return result\n",
        "\n",
        "n = 10\n",
        "fib_sequence = FibonacciIterator(n)\n",
        "\n",
        "print(f\"The first {n} terms of the Fibonacci sequence are:\")\n"
      ],
      "metadata": {
        "colab": {
          "base_uri": "https://localhost:8080/"
        },
        "id": "-V4ztRyKptZE",
        "outputId": "3bb0a5a2-984e-498b-9e3e-09216a051f47"
      },
      "execution_count": null,
      "outputs": [
        {
          "output_type": "stream",
          "name": "stdout",
          "text": [
            "The first 10 terms of the Fibonacci sequence are:\n"
          ]
        }
      ]
    },
    {
      "cell_type": "code",
      "source": [
        "# Write a generator function in Python that yields the powers of 2 up to a given exponent.\n",
        "\n",
        "def powers_of_two(max_exponent):\n",
        "\n",
        "    for exponent in range(max_exponent + 1):\n",
        "        yield 2 ** exponent\n",
        "\n",
        "for power in powers_of_two(5):\n",
        "    print(power)\n"
      ],
      "metadata": {
        "colab": {
          "base_uri": "https://localhost:8080/"
        },
        "id": "VCOcA74BqjPJ",
        "outputId": "b61be075-42af-4c79-c014-6ed2c6ceaa3c"
      },
      "execution_count": null,
      "outputs": [
        {
          "output_type": "stream",
          "name": "stdout",
          "text": [
            "1\n",
            "2\n",
            "4\n",
            "8\n",
            "16\n",
            "32\n"
          ]
        }
      ]
    },
    {
      "cell_type": "code",
      "source": [
        "#  Implement a generator function that reads a file line by line and yields each line as a string\n",
        "\n",
        "def read_file_line_by_line(file_path):\n",
        "\n",
        "    try:\n",
        "        with open(file_path, 'r') as file:\n",
        "            for line in file:\n",
        "                yield line.strip()\n",
        "    except FileNotFoundError:\n",
        "        print(f\"Error: The file at {file_path} was not found.\")\n",
        "    except Exception as e:\n",
        "        print(f\"An error occurred: {e}\")\n",
        "\n",
        "file_path = \"example.txt\"\n",
        "for line in read_file_line_by_line(file_path):\n",
        "    print(line)\n"
      ],
      "metadata": {
        "colab": {
          "base_uri": "https://localhost:8080/"
        },
        "id": "yCSIKsdyq7oK",
        "outputId": "9c54a856-3437-49fe-8ab3-4ee60387b137"
      },
      "execution_count": null,
      "outputs": [
        {
          "output_type": "stream",
          "name": "stdout",
          "text": [
            "Error: The file at example.txt was not found.\n"
          ]
        }
      ]
    },
    {
      "cell_type": "code",
      "source": [
        "# Use a lambda function in Python to sort a list of tuples based on the second element of each tuple\n",
        "\n",
        "tuples_list = [(1, 3), (2, 1), (4, 2), (3, 4)]\n",
        "\n",
        "sorted_list = sorted(tuples_list, key=lambda x: x[1])\n",
        "\n",
        "print(f\"Sorted list based on the second element: {sorted_list}\")\n"
      ],
      "metadata": {
        "colab": {
          "base_uri": "https://localhost:8080/"
        },
        "id": "6UlR2X4PrU_v",
        "outputId": "1db11f39-e5da-468b-d1d4-8c26d155de38"
      },
      "execution_count": null,
      "outputs": [
        {
          "output_type": "stream",
          "name": "stdout",
          "text": [
            "Sorted list based on the second element: [(2, 1), (4, 2), (1, 3), (3, 4)]\n"
          ]
        }
      ]
    },
    {
      "cell_type": "code",
      "source": [
        "# Write a Python program that uses `map()` to convert a list of temperatures from Celsius to Fahrenheit\n",
        "\n",
        "celsius_temps = [0, 20, 30, 40, 100]\n",
        "\n",
        "def celsius_to_fahrenheit(celsius):\n",
        "    return (celsius * 9/5) + 32\n",
        "\n",
        "fahrenheit_temps = list(map(celsius_to_fahrenheit, celsius_temps))\n",
        "\n",
        "print(f\"Temperatures in Fahrenheit: {fahrenheit_temps}\")\n"
      ],
      "metadata": {
        "colab": {
          "base_uri": "https://localhost:8080/"
        },
        "id": "8utpu2HcriQ7",
        "outputId": "c769a4ab-2ff2-4566-b6f7-21e9364b3029"
      },
      "execution_count": null,
      "outputs": [
        {
          "output_type": "stream",
          "name": "stdout",
          "text": [
            "Temperatures in Fahrenheit: [32.0, 68.0, 86.0, 104.0, 212.0]\n"
          ]
        }
      ]
    },
    {
      "cell_type": "code",
      "source": [
        "#  Create a Python program that uses `filter()` to remove all the vowels from a given string.\n",
        "\n",
        "def is_not_vowel(char):\n",
        "    vowels = \"aeiouAEIOU\"\n",
        "    return char not in vowels\n",
        "\n",
        "input_string = \"Hello, World!\"\n",
        "\n",
        "filtered_string = ''.join(filter(is_not_vowel, input_string))\n",
        "\n",
        "print(f\"String without vowels: {filtered_string}\")\n"
      ],
      "metadata": {
        "colab": {
          "base_uri": "https://localhost:8080/"
        },
        "id": "jEpOo2jqryg8",
        "outputId": "7d27f8ca-be9b-4edd-8e0c-3da2aca7d2da"
      },
      "execution_count": null,
      "outputs": [
        {
          "output_type": "stream",
          "name": "stdout",
          "text": [
            "String without vowels: Hll, Wrld!\n"
          ]
        }
      ]
    },
    {
      "cell_type": "code",
      "source": [
        "''' Imagine an accounting routine used in a book shop. It works on a list with sublists, which look like this\n",
        "    order number           Book Titele And Author                     Quantity           Price per Item\n",
        "    34587                  Learning Python, Mark Lutz                   4                  40.95\n",
        "    98762                  Programming Python, Mark Lutz                5                  56.80\n",
        "    77226                  Head First Python, Paul Barry                3                  32.95\n",
        "    88112                  Einfuhrung in Python3, Bernd Klein           3                  24.99\n",
        "\n",
        "    Write a Python program, which returns a list with 2-tuples. Each tuple consists of the order number and the\n",
        "product of the price per item and the quantity. The product should be increased by 10,- € if the value of the\n",
        "order is smaller than 100,00 €.\n",
        "Write a Python program using lambda and map.'''\n",
        "\n",
        "orders = [\n",
        "    (34587, \"Learning Python, Mark Lutz\", 4, 40.95),\n",
        "    (98762, \"Programming Python, Mark Lutz\", 5, 56.80),\n",
        "    (77226, \"Head First Python, Paul Barry\", 3, 32.95),\n",
        "    (88112, \"Einfuhrung in Python3, Bernd Klein\", 3, 24.99),\n",
        "]\n",
        "\n",
        "calculate_total = lambda order: (order[0], order[2] * order[3] + (10 if order[2] * order[3] < 100 else 0))\n",
        "\n",
        "result = list(map(calculate_total, orders))\n",
        "\n",
        "print(result)\n",
        "\n",
        "\n"
      ],
      "metadata": {
        "id": "XcIAgsWdsBv_",
        "colab": {
          "base_uri": "https://localhost:8080/"
        },
        "outputId": "3f5afd2e-b304-4cb8-ac07-bab12630ed04"
      },
      "execution_count": 1,
      "outputs": [
        {
          "output_type": "stream",
          "name": "stdout",
          "text": [
            "[(34587, 163.8), (98762, 284.0), (77226, 108.85000000000001), (88112, 84.97)]\n"
          ]
        }
      ]
    }
  ]
}